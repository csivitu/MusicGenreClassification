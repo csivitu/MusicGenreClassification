{
 "cells": [
  {
   "cell_type": "code",
   "execution_count": null,
   "id": "02845914",
   "metadata": {},
   "outputs": [],
   "source": [
    "pip install pandas scikit-learn "
   ]
  },
  {
   "cell_type": "code",
   "execution_count": null,
   "id": "b45d496c",
   "metadata": {},
   "outputs": [],
   "source": [
    "import pandas as pd \n",
    "from sklearn.model_selection import train_test_split\n",
    "from sklearn.pipeline import Pipeline\n",
    "from sklearn.svm import SVC\n",
    "from sklearn.preprocessing import StandardScaler\n",
    "from sklearn.metrics import accuracy_score, classification_report"
   ]
  },
  {
   "cell_type": "code",
   "execution_count": null,
   "id": "abe19702",
   "metadata": {},
   "outputs": [],
   "source": [
    "tracks = pd.read_csv(\"tracks.csv\" , index_col = 0, header = [0, 1])  \n",
    "features = pd.read_csv(\"features.csv\", index_col = 0) \n",
    "\n",
    "tracks_filtered = tracks[tracks[(\"set\", \"subset\")] == \"small\"]\n",
    "tracks_id = tracks_filtered.index\n",
    "genre = tracks_filtered[(\"track\", \"genre_top\")]\n",
    "features_filtered = features.reindex(tracks_id)\n",
    "\n",
    "genre_df = genre.reset_index(name = \"genre\")\n",
    "features_df = features_filtered.reset_index()\n",
    "\n",
    "print(features_df.head())\n",
    "\n",
    "features_df.drop(['track_id'], axis = 1)\n",
    "genre_df = genre_df[['genre']]"
   ]
  },
  {
   "cell_type": "code",
   "execution_count": null,
   "id": "391ac041",
   "metadata": {},
   "outputs": [],
   "source": [
    "X_train, X_test, y_train, y_test = train_test_split(features_df, genre_df.values, test_size = 0.2, random_state = 42)\n",
    "\n",
    "X_train = X_train.astype(float)\n",
    "y_train = y_train.flatten()\n",
    "\n",
    "pipeline = Pipeline([\n",
    "    ('scaler', StandardScaler()),  \n",
    "    ('svm', SVC(random_state=42))\n",
    "]) "
   ]
  },
  {
   "cell_type": "code",
   "execution_count": null,
   "id": "176ba184",
   "metadata": {},
   "outputs": [],
   "source": [
    "print(\"Training the model\")\n",
    "pipeline.fit(X_train, y_train)\n",
    "\n",
    "print(\"Making predictions\")\n",
    "y_pred = pipeline.predict(X_test)\n",
    "\n",
    "accuracy = accuracy_score(y_test, y_pred)\n",
    "print(f\"Accuracy: {accuracy:.4f}\\n\")\n",
    "\n",
    "print(\"Classification Report:\")\n",
    "print(classification_report(y_test, y_pred, zero_division=1))"
   ]
  }
 ],
 "metadata": {
  "kernelspec": {
   "display_name": ".venv",
   "language": "python",
   "name": "python3"
  },
  "language_info": {
   "codemirror_mode": {
    "name": "ipython",
    "version": 3
   },
   "file_extension": ".py",
   "mimetype": "text/x-python",
   "name": "python",
   "nbconvert_exporter": "python",
   "pygments_lexer": "ipython3",
   "version": "3.12.8"
  }
 },
 "nbformat": 4,
 "nbformat_minor": 5
}
